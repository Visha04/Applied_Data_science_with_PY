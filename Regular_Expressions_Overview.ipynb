{
 "cells": [
  {
   "cell_type": "markdown",
   "metadata": {},
   "source": [
    "# BASIC RE METHODS"
   ]
  },
  {
   "cell_type": "code",
   "execution_count": 2,
   "metadata": {},
   "outputs": [],
   "source": [
    "#Regular expressionsmodule\n",
    "\n",
    "import re"
   ]
  },
  {
   "cell_type": "code",
   "execution_count": null,
   "metadata": {},
   "outputs": [],
   "source": []
  },
  {
   "cell_type": "code",
   "execution_count": 3,
   "metadata": {},
   "outputs": [
    {
     "name": "stdout",
     "output_type": "stream",
     "text": [
      "Wonderful\n"
     ]
    }
   ],
   "source": [
    "#search method :\n",
    "\n",
    "text = \"This is a good day!\"\n",
    "\n",
    "if re.search(\"good\",text):\n",
    "    print(\"Wonderful\")\n",
    "else:\n",
    "    print(\"Alas :()\")"
   ]
  },
  {
   "cell_type": "code",
   "execution_count": 4,
   "metadata": {},
   "outputs": [
    {
     "name": "stdout",
     "output_type": "stream",
     "text": [
      "Not a problem\n"
     ]
    }
   ],
   "source": [
    "#match method --matches pattern at the start of the string\n",
    "\n",
    "text =\"You are a good boy.\"\n",
    "\n",
    "if re.match(\"good\",text):\n",
    "    print(\"Great\")\n",
    "else:\n",
    "    print(\"Not a problem\")"
   ]
  },
  {
   "cell_type": "code",
   "execution_count": 5,
   "metadata": {},
   "outputs": [
    {
     "data": {
      "text/plain": [
       "['', ' is a good girl.', ' works a lot.', ' also gets good grades.']"
      ]
     },
     "execution_count": 5,
     "metadata": {},
     "output_type": "execute_result"
    }
   ],
   "source": [
    "#Split and findall method:\n",
    "\n",
    "text =\"Vish is a good girl.Vish works a lot.Vish also gets good grades.\"\n",
    "\n",
    "re.split(\"Vish\",text) #splits based on pattern"
   ]
  },
  {
   "cell_type": "code",
   "execution_count": 6,
   "metadata": {},
   "outputs": [
    {
     "data": {
      "text/plain": [
       "3"
      ]
     },
     "execution_count": 6,
     "metadata": {},
     "output_type": "execute_result"
    }
   ],
   "source": [
    "#whereas findall finds all the instances of the pattern\n",
    "\n",
    "text =\"Sumeet is a bad boy.Sumeet does not work.Sumeet only likes to party.\"\n",
    "\n",
    "len(re.findall(\"Sumeet\",text)) # no of times the pattern occurs in the text"
   ]
  },
  {
   "cell_type": "code",
   "execution_count": 7,
   "metadata": {},
   "outputs": [
    {
     "name": "stdout",
     "output_type": "stream",
     "text": [
      "Found the pattern at the start of the text\n"
     ]
    }
   ],
   "source": [
    "# ^ character is used to match apattern at the start of the srting. \n",
    "#$ character is used to match the pattern at the end of the string.They are called as anchors\n",
    "\n",
    "#Example 1:\n",
    "\n",
    "start_text = \"Vish is a good girl.Vish works diligently.Vish can improve her performance.\"\n",
    "\n",
    "if re.search('^Vish',start_text):\n",
    "    print(\"Found the pattern at the start of the text\")\n",
    "else:\n",
    "    print(\"Alas :( not found!)\")"
   ]
  },
  {
   "cell_type": "code",
   "execution_count": 8,
   "metadata": {},
   "outputs": [
    {
     "name": "stdout",
     "output_type": "stream",
     "text": [
      "Pattern found at the end of the text.\n"
     ]
    }
   ],
   "source": [
    "#Check for the pattern at the end of the string:\n",
    "\n",
    "#Example 2 :\n",
    "\n",
    "end_text = \"Sumeet is a bad boy.He does not work hard.If you don't work hard we will be doomed, Sumeet\"\n",
    "\n",
    "if re.search(\"Sumeet$\",end_text):\n",
    "    print(\"Pattern found at the end of the text.\")\n",
    "else:\n",
    "    print(\"Alas :( pattern not found.)\")"
   ]
  },
  {
   "cell_type": "code",
   "execution_count": 9,
   "metadata": {},
   "outputs": [
    {
     "data": {
      "text/plain": [
       "7"
      ]
     },
     "execution_count": 9,
     "metadata": {},
     "output_type": "execute_result"
    }
   ],
   "source": [
    "#Consider a string of A's and B's\n",
    "\n",
    "grades ='AACAAABCBBAAC'\n",
    "\n",
    "#Example 1 Find the number of A's in the string\n",
    "\n",
    "len(re.findall('A',grades))"
   ]
  },
  {
   "cell_type": "code",
   "execution_count": 10,
   "metadata": {},
   "outputs": [
    {
     "name": "stdout",
     "output_type": "stream",
     "text": [
      "The pattern where A is followed by B occurs is 1 times.\n",
      "The pattern where A occurs or B occurs is 10 times.\n"
     ]
    }
   ],
   "source": [
    "#Example 2:\n",
    "\n",
    "import re \n",
    "#Find the number of A's or  B'sin the string\n",
    "\n",
    "#Cannot use pattern AB since it will be a pattern of A followed by B\n",
    "\n",
    "#Difference between 1 and 2 below:\n",
    "\n",
    "print(\"The pattern where A is followed by B occurs is {} times.\".format(len(re.findall('AB',grades)))) #return 1 search --\n",
    "\n",
    "re.findall('[AB]',grades)\n",
    "\n",
    "print(\"The pattern where A occurs or B occurs is {} times.\".format(len(re.findall('[AB]',grades)))) \n"
   ]
  },
  {
   "cell_type": "code",
   "execution_count": 11,
   "metadata": {},
   "outputs": [
    {
     "name": "stdout",
     "output_type": "stream",
     "text": [
      "['AB', 'AC', 'AC', 'AB', 'AC']\n",
      "The pattern where A is followed by either B or C is 5 times \n",
      "['AB', 'AC', 'AC', 'AB', 'AC']\n",
      "The pattern where A is followed by B or by C is 5 times \n"
     ]
    }
   ],
   "source": [
    "#Example 3:\n",
    "\n",
    "grades2 = 'ABACBBACABBAC'\n",
    "\n",
    "#Find the number of patterns in the string where A is followed by either B or C\n",
    "\n",
    "#expr \n",
    "\n",
    "expr = re.findall('A[B-C]',grades2)\n",
    "\n",
    "print(expr)\n",
    "\n",
    "print(\"The pattern where A is followed by either B or C is {} times \".format(len(expr)))\n",
    "\n",
    "#The above expr can also be written in a different way:\n",
    "\n",
    "expr1 = re.findall('AB|AC',grades2)\n",
    "print(expr1)\n",
    "print(\"The pattern where A is followed by B or by C is {} times \".format(len(expr1)))"
   ]
  },
  {
   "cell_type": "code",
   "execution_count": 12,
   "metadata": {},
   "outputs": [
    {
     "data": {
      "text/plain": [
       "['B', 'C', 'C', 'B', 'B', 'C']"
      ]
     },
     "execution_count": 12,
     "metadata": {},
     "output_type": "execute_result"
    }
   ],
   "source": [
    "#^ character is an anchor that is used to match the pattern at the beginning of the string.\n",
    "#^ character is also used to match negate the pattern when used in set\n",
    "#For example:\n",
    "\n",
    "grades3 ='ABCCBAABC'\n",
    "\n",
    "re.findall('[^A]',grades3)\n",
    "\n",
    "#This finds all the characters that are not A~ so its also used for negation"
   ]
  },
  {
   "cell_type": "code",
   "execution_count": 13,
   "metadata": {},
   "outputs": [
    {
     "data": {
      "text/plain": [
       "[]"
      ]
     },
     "execution_count": 13,
     "metadata": {},
     "output_type": "execute_result"
    }
   ],
   "source": [
    "#Another example:\n",
    "\n",
    "re.findall('^[^A]',grades3) #this returns the match where the non A character is present at the start of the string.\n",
    "#Since the string start is A,it returns empty list"
   ]
  },
  {
   "cell_type": "markdown",
   "metadata": {},
   "source": [
    "# QUANTIFIERS"
   ]
  },
  {
   "cell_type": "code",
   "execution_count": 14,
   "metadata": {},
   "outputs": [
    {
     "data": {
      "text/plain": [
       "['AA', 'AAAA']"
      ]
     },
     "execution_count": 14,
     "metadata": {},
     "output_type": "execute_result"
    }
   ],
   "source": [
    "#The most basic form of quantifier is e{m,n} This means match the pattern e for a minimum of m times up to n (maximum times)\n",
    "\n",
    "#For example:\n",
    "\n",
    "grades4 = 'ABAACAAAABCCB'\n",
    "\n",
    "#Numer of times when there was a streak of A's where minimum is 2 and maximum is 10\n",
    "\n",
    "re.findall('A{2,10}',grades4)\n",
    "\n",
    "#2 times there was a streak of A's Once when the student got A 2 timesback to back\n",
    "#and one when he got A's four times back to back"
   ]
  },
  {
   "cell_type": "code",
   "execution_count": 15,
   "metadata": {},
   "outputs": [
    {
     "data": {
      "text/plain": [
       "['AA', 'AA', 'AA']"
      ]
     },
     "execution_count": 15,
     "metadata": {},
     "output_type": "execute_result"
    }
   ],
   "source": [
    "#If we do not specify n and only specify m then it takes same number for m and n:\n",
    "re.findall('A{2}',grades4) #got a match 3 times, there was 3 times a streak of AA"
   ]
  },
  {
   "cell_type": "code",
   "execution_count": 16,
   "metadata": {},
   "outputs": [
    {
     "data": {
      "text/plain": [
       "['AAA']"
      ]
     },
     "execution_count": 16,
     "metadata": {},
     "output_type": "execute_result"
    }
   ],
   "source": [
    "re.findall('A{3}',grades4) #Just once"
   ]
  },
  {
   "cell_type": "code",
   "execution_count": 17,
   "metadata": {},
   "outputs": [
    {
     "data": {
      "text/plain": [
       "['AA', 'AA', 'AA']"
      ]
     },
     "execution_count": 17,
     "metadata": {},
     "output_type": "execute_result"
    }
   ],
   "source": [
    "re.findall('AA',grades4) #this is same as A{2}"
   ]
  },
  {
   "cell_type": "code",
   "execution_count": 18,
   "metadata": {},
   "outputs": [
    {
     "data": {
      "text/plain": [
       "['AAA']"
      ]
     },
     "execution_count": 18,
     "metadata": {},
     "output_type": "execute_result"
    }
   ],
   "source": [
    "re.findall('A{1,1}A{1,1}A{1,1}',grades4) #this is the same as A{3}"
   ]
  },
  {
   "cell_type": "code",
   "execution_count": 19,
   "metadata": {},
   "outputs": [
    {
     "data": {
      "text/plain": [
       "['AABC', 'ABBC']"
      ]
     },
     "execution_count": 19,
     "metadata": {},
     "output_type": "execute_result"
    }
   ],
   "source": [
    "#Find a decreasing trend in student's grades:\n",
    "\n",
    "grades5 = 'AABCAAABBBABBC'\n",
    "re.findall('A{1,10}B{1,10}C{1,10}',grades5) #THAT IS WHEN THE Student had As then it had B's and then C's"
   ]
  },
  {
   "cell_type": "code",
   "execution_count": 20,
   "metadata": {},
   "outputs": [
    {
     "data": {
      "text/plain": [
       "'/home/jovyan/work/resources'"
      ]
     },
     "execution_count": 20,
     "metadata": {},
     "output_type": "execute_result"
    }
   ],
   "source": [
    "import os\n",
    "os.getcwd()"
   ]
  },
  {
   "cell_type": "code",
   "execution_count": 21,
   "metadata": {},
   "outputs": [
    {
     "name": "stdout",
     "output_type": "stream",
     "text": [
      "Overview[edit]\n",
      "FERPA gives parents access to their child's education records, an opportunity to seek to have the records amended, and some control over the disclosure of information from the records. With several exceptions, schools must have a student's consent prior to the disclosure of education records after that student is 18 years old. The law applies only to educational agencies and institutions that receive funds under a program administered by the U.S. Department of Education.\n",
      "\n",
      "Other regulations under this act, effective starting January 3, 2012, allow for greater disclosures of personal and directory student identifying information and regulate student IDs and e-mail addresses.[2] For example, schools may provide external companies with a student's personally identifiable information without the student's consent.[2]\n",
      "\n",
      "Examples of situations affected by FERPA include school employees divulging information to anyone other than the student about the student's grades or behavior, and school work posted on a bulletin board with a grade. Generally, schools must have written permission from the parent or eligible student in order to release any information from a student's education record.\n",
      "\n",
      "This privacy policy also governs how state agencies transmit testing data to federal agencies, such as the Education Data Exchange Network.\n",
      "\n",
      "This U.S. federal law also gave students 18 years of age or older, or students of any age if enrolled in any post-secondary educational institution, the right of privacy regarding grades, enrollment, and even billing information unless the school has specific permission from the student to share that specific type of information.\n",
      "\n",
      "FERPA also permits a school to disclose personally identifiable information from education records of an \"eligible student\" (a student age 18 or older or enrolled in a postsecondary institution at any age) to his or her parents if the student is a \"dependent student\" as that term is defined in Section 152 of the Internal Revenue Code. Generally, if either parent has claimed the student as a dependent on the parent's most recent income tax statement, the school may non-consensually disclose the student's education records to both parents.[3]\n",
      "\n",
      "The law allowed students who apply to an educational institution such as graduate school permission to view recommendations submitted by others as part of the application. However, on standard application forms, students are given the option to waive this right.\n",
      "\n",
      "FERPA specifically excludes employees of an educational institution if they are not students.\n",
      "\n",
      "The act is also referred to as the Buckley Amendment, for one of its proponents, Senator James L. Buckley of New York.\n",
      "\n",
      "Access to public records[edit]\n",
      "The citing of FERPA to conceal public records that are not \"educational\" in nature has been widely criticized, including by the act's primary Senate sponsor.[4] For example, in the Owasso Independent School District v. Falvo case, an important part of the debate was determining the relationship between peer-grading and \"education records\" as defined in FERPA. In the Court of Appeals, it was ruled that students placing grades on the work of other students made such work into an \"education record.\" Thus, peer-grading was determined as a violation of FERPA privacy policies because students had access to other students' academic performance without full consent.[5] However, when the case went to the Supreme Court, it was officially ruled that peer-grading was not a violation of FERPA. This is because a grade written on a student's work does not become an \"education record\" until the teacher writes the final grade into a grade book.[6]\n",
      "\n",
      "Student medical records[edit]\n",
      "Legal experts have debated the issue of whether student medical records (for example records of therapy sessions with a therapist at an on-campus counseling center) might be released to the school administration under certain triggering events, such as when a student sued his college or university.[7][8]\n",
      "\n",
      "Usually, student medical treatment records will remain under the protection of FERPA, not the Health Insurance Portability and Accountability Act (HIPAA). This is due to the \"FERPA Exception\" written within HIPAA.[9]\n"
     ]
    }
   ],
   "source": [
    "with open('/home/jovyan/work/resources/week-1/datasets/ferpa.txt','r') as file:\n",
    "    wiki = file.read()\n",
    "print(wiki)"
   ]
  },
  {
   "cell_type": "code",
   "execution_count": null,
   "metadata": {},
   "outputs": [],
   "source": []
  },
  {
   "cell_type": "code",
   "execution_count": 22,
   "metadata": {},
   "outputs": [],
   "source": [
    "pattern = '[A-Za-z]{1,100}\\[edit\\]'"
   ]
  },
  {
   "cell_type": "code",
   "execution_count": null,
   "metadata": {},
   "outputs": [],
   "source": []
  },
  {
   "cell_type": "code",
   "execution_count": 23,
   "metadata": {},
   "outputs": [
    {
     "data": {
      "text/plain": [
       "['Overview[edit]', 'records[edit]', 'records[edit]']"
      ]
     },
     "execution_count": 23,
     "metadata": {},
     "output_type": "execute_result"
    }
   ],
   "source": [
    "re.findall(pattern,wiki) #not quite the titles that we wante"
   ]
  },
  {
   "cell_type": "code",
   "execution_count": 24,
   "metadata": {},
   "outputs": [],
   "source": [
    "#Let us improve upon this\n",
    "#For example \\w can be used to match any letter or digits so intead of using A-Z we can use \\w\n",
    "\n",
    "pattern = '[\\w]{1,100}\\[edit\\]' #means match one to 100 characters before edit."
   ]
  },
  {
   "cell_type": "code",
   "execution_count": 25,
   "metadata": {},
   "outputs": [
    {
     "data": {
      "text/plain": [
       "['Overview[edit]', 'records[edit]', 'records[edit]']"
      ]
     },
     "execution_count": 25,
     "metadata": {},
     "output_type": "execute_result"
    }
   ],
   "source": [
    "re.findall(pattern,wiki) "
   ]
  },
  {
   "cell_type": "code",
   "execution_count": 26,
   "metadata": {},
   "outputs": [
    {
     "data": {
      "text/plain": [
       "['Overview[edit]', 'records[edit]', 'records[edit]']"
      ]
     },
     "execution_count": 26,
     "metadata": {},
     "output_type": "execute_result"
    }
   ],
   "source": [
    "# 1 to 100 charatcers in curly braces can be reduced to *,? or + which means these can be used in placeof curly brace syntax\n",
    "\n",
    "pattern ='[\\w]*\\[edit\\]' #matches 0 or more alphanumeric characters before [edit]\n",
    "\n",
    "re.findall(pattern,wiki)\n"
   ]
  },
  {
   "cell_type": "code",
   "execution_count": 27,
   "metadata": {},
   "outputs": [
    {
     "data": {
      "text/plain": [
       "['Overview[edit]',\n",
       " 'Access to public records[edit]',\n",
       " 'Student medical records[edit]']"
      ]
     },
     "execution_count": 27,
     "metadata": {},
     "output_type": "execute_result"
    }
   ],
   "source": [
    "#Next is we stilldo not have whitespace because of which we are not getting complete titles\n",
    "\n",
    "pattern = '[\\w ]*\\[edit\\]'\n",
    "\n",
    "re.findall(pattern,wiki)"
   ]
  },
  {
   "cell_type": "code",
   "execution_count": 28,
   "metadata": {},
   "outputs": [
    {
     "name": "stdout",
     "output_type": "stream",
     "text": [
      "Overview\n",
      "Access to public records\n",
      "Student medical records\n"
     ]
    }
   ],
   "source": [
    "#After this to just extract the titles we need to remove [edit] from it\n",
    "\n",
    "for title in re.findall(pattern,wiki): #split on square bracket and extract first part before square bracket to get the title\n",
    "    main_title = title.split('[')[0]\n",
    "    print(main_title)"
   ]
  },
  {
   "cell_type": "markdown",
   "metadata": {},
   "source": [
    "# GROUPS"
   ]
  },
  {
   "cell_type": "code",
   "execution_count": 29,
   "metadata": {},
   "outputs": [],
   "source": [
    "#We have been s´talking about matching the patterns, \n",
    "#we can also match patterns as groups. And then refer to different groups within the same pattern\n",
    "\n",
    "#Same findall above can be written as a group\n",
    "\n",
    "pattern = '([\\w ]*)(\\[edit\\])' #searching the same pattern but as a group"
   ]
  },
  {
   "cell_type": "code",
   "execution_count": 30,
   "metadata": {},
   "outputs": [
    {
     "data": {
      "text/plain": [
       "[('Overview', '[edit]'),\n",
       " ('Access to public records', '[edit]'),\n",
       " ('Student medical records', '[edit]')]"
      ]
     },
     "execution_count": 30,
     "metadata": {},
     "output_type": "execute_result"
    }
   ],
   "source": [
    "re.findall(pattern,wiki)"
   ]
  },
  {
   "cell_type": "code",
   "execution_count": 31,
   "metadata": {},
   "outputs": [
    {
     "name": "stdout",
     "output_type": "stream",
     "text": [
      "Overview\n",
      "Access to public records\n",
      "Student medical records\n"
     ]
    }
   ],
   "source": [
    "for title in re.findall(pattern,wiki):\n",
    "    print(title[0])  #this also returns the titles but very easily."
   ]
  },
  {
   "cell_type": "code",
   "execution_count": 34,
   "metadata": {},
   "outputs": [
    {
     "name": "stdout",
     "output_type": "stream",
     "text": [
      "Overview\n",
      "Access to public records\n",
      "Student medical records\n"
     ]
    }
   ],
   "source": [
    "#We can also give a title to each group: using laeling and ?P<title_name>\n",
    "\n",
    "for item in re.finditer(\"(?P<title>[\\w ]*)(?P<edit_link>\\[edit\\])\",wiki):\n",
    "    print(item.groupdict()['title'])\n",
    "\n",
    "#re.finditer(\"(?P<title>[\\w ]*)(?P<edit_link>\\[edit\\])\",wiki)\n",
    "    "
   ]
  },
  {
   "cell_type": "code",
   "execution_count": 58,
   "metadata": {},
   "outputs": [
    {
     "name": "stdout",
     "output_type": "stream",
     "text": [
      "Overview\n",
      "Access to public records\n",
      "Student medical records\n"
     ]
    }
   ],
   "source": [
    "#Look ahead and look behing with ?=\n",
    "\n",
    "#?= looks ahead of the pattern; does not return the pattern but the textbefore that:\n",
    "\n",
    "for i in re.finditer(\"(?P<title>[\\w ]+)(?=\\[edit\\])\",wiki):\n",
    "    print(i.groupdict()['title'])"
   ]
  },
  {
   "cell_type": "markdown",
   "metadata": {},
   "source": [
    "# WIKIPEDIA DATA"
   ]
  },
  {
   "cell_type": "code",
   "execution_count": 61,
   "metadata": {},
   "outputs": [],
   "source": [
    "with open('/home/jovyan/work/resources/week-1/datasets/buddhist.txt','r') as file:\n",
    "    uni_data =file.read()"
   ]
  },
  {
   "cell_type": "code",
   "execution_count": 62,
   "metadata": {},
   "outputs": [
    {
     "name": "stdout",
     "output_type": "stream",
     "text": [
      "Buddhist universities and colleges in the United States\n",
      "From Wikipedia, the free encyclopedia\n",
      "Jump to navigationJump to search\n",
      "\n",
      "This article needs additional citations for verification. Please help improve this article by adding citations to reliable sources. Unsourced material may be challenged and removed.\n",
      "Find sources: \"Buddhist universities and colleges in the United States\" – news · newspapers · books · scholar · JSTOR (December 2009) (Learn how and when to remove this template message)\n",
      "There are several Buddhist universities in the United States. Some of these have existed for decades and are accredited. Others are relatively new and are either in the process of being accredited or else have no formal accreditation. The list includes:\n",
      "\n",
      "Dhammakaya Open University – located in Azusa, California, part of the Thai Wat Phra Dhammakaya[1]\n",
      "Dharmakirti College – located in Tucson, Arizona Now called Awam Tibetan Buddhist Institute (http://awaminstitute.org/)\n",
      "Dharma Realm Buddhist University – located in Ukiah, California\n",
      "Ewam Buddhist Institute – located in Arlee, Montana\n",
      "Naropa University is located in Boulder, Colorado (Accredited by the Higher Learning Commission)\n",
      "Institute of Buddhist Studies – located in Berkeley, California\n",
      "Maitripa College – located in Portland, Oregon\n",
      "Soka University of America – located in Aliso Viejo, California\n",
      "University of the West – located in Rosemead, California\n",
      "Won Institute of Graduate Studies – located in Glenside, Pennsylvania\n",
      "References[edit]\n",
      "^ Banchanon, Phongphiphat (3 February 2015). รู้จัก \"เครือข่ายธรรมกาย\" [Getting to know the Dhammakaya network]. Forbes Thailand (in Thai). Retrieved 11 November 2016.\n",
      "External links[edit]\n",
      "List of Buddhist Universities and Colleges in the world\n",
      "\n"
     ]
    }
   ],
   "source": [
    "print(uni_data)"
   ]
  },
  {
   "cell_type": "code",
   "execution_count": 67,
   "metadata": {},
   "outputs": [],
   "source": [
    "pattern=\"\"\"\n",
    "(?P<title>.*)\n",
    "(\\-\\slocated in\\s )\n",
    "(?P<city>\\w*)\n",
    "(,\\s)\n",
    "(?P<state>\\w*)\"\"\"\n",
    "\n"
   ]
  },
  {
   "cell_type": "code",
   "execution_count": 70,
   "metadata": {},
   "outputs": [],
   "source": [
    "for item in re.finditer(pattern,uni_data):\n",
    "    print(item)\n",
    "    "
   ]
  },
  {
   "cell_type": "code",
   "execution_count": null,
   "metadata": {},
   "outputs": [],
   "source": []
  },
  {
   "cell_type": "code",
   "execution_count": null,
   "metadata": {},
   "outputs": [],
   "source": []
  },
  {
   "cell_type": "code",
   "execution_count": null,
   "metadata": {},
   "outputs": [],
   "source": []
  },
  {
   "cell_type": "code",
   "execution_count": null,
   "metadata": {},
   "outputs": [],
   "source": []
  },
  {
   "cell_type": "code",
   "execution_count": null,
   "metadata": {},
   "outputs": [],
   "source": []
  },
  {
   "cell_type": "code",
   "execution_count": null,
   "metadata": {},
   "outputs": [],
   "source": []
  },
  {
   "cell_type": "code",
   "execution_count": null,
   "metadata": {},
   "outputs": [],
   "source": []
  },
  {
   "cell_type": "code",
   "execution_count": null,
   "metadata": {},
   "outputs": [],
   "source": []
  },
  {
   "cell_type": "code",
   "execution_count": null,
   "metadata": {},
   "outputs": [],
   "source": []
  },
  {
   "cell_type": "code",
   "execution_count": null,
   "metadata": {},
   "outputs": [],
   "source": []
  },
  {
   "cell_type": "code",
   "execution_count": null,
   "metadata": {},
   "outputs": [],
   "source": []
  },
  {
   "cell_type": "code",
   "execution_count": null,
   "metadata": {},
   "outputs": [],
   "source": []
  },
  {
   "cell_type": "code",
   "execution_count": null,
   "metadata": {},
   "outputs": [],
   "source": []
  },
  {
   "cell_type": "code",
   "execution_count": null,
   "metadata": {},
   "outputs": [],
   "source": []
  },
  {
   "cell_type": "code",
   "execution_count": null,
   "metadata": {},
   "outputs": [],
   "source": []
  },
  {
   "cell_type": "code",
   "execution_count": null,
   "metadata": {},
   "outputs": [],
   "source": []
  },
  {
   "cell_type": "code",
   "execution_count": null,
   "metadata": {},
   "outputs": [],
   "source": []
  },
  {
   "cell_type": "code",
   "execution_count": null,
   "metadata": {},
   "outputs": [],
   "source": []
  },
  {
   "cell_type": "code",
   "execution_count": null,
   "metadata": {},
   "outputs": [],
   "source": []
  },
  {
   "cell_type": "code",
   "execution_count": null,
   "metadata": {},
   "outputs": [],
   "source": []
  }
 ],
 "metadata": {
  "kernelspec": {
   "display_name": "Python 3",
   "language": "python",
   "name": "python3"
  },
  "language_info": {
   "codemirror_mode": {
    "name": "ipython",
    "version": 3
   },
   "file_extension": ".py",
   "mimetype": "text/x-python",
   "name": "python",
   "nbconvert_exporter": "python",
   "pygments_lexer": "ipython3",
   "version": "3.7.3"
  }
 },
 "nbformat": 4,
 "nbformat_minor": 2
}
